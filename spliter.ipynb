{
 "cells": [
  {
   "cell_type": "code",
   "execution_count": 2,
   "metadata": {},
   "outputs": [],
   "source": [
    "# from pydub import AudioSegment\n",
    "# from pydub.silence import split_on_silence\n",
    "import os"
   ]
  },
  {
   "cell_type": "code",
   "execution_count": 3,
   "metadata": {},
   "outputs": [],
   "source": [
    "from helper.audio_spliter import split_audio"
   ]
  },
  {
   "cell_type": "code",
   "execution_count": 4,
   "metadata": {},
   "outputs": [
    {
     "name": "stdout",
     "output_type": "stream",
     "text": [
      "Saved temp/segments/Recording (6)/Recording (6)_segment_1.wav\n",
      "Saved temp/segments/Recording (6)/Recording (6)_segment_2.wav\n",
      "Saved temp/segments/Recording (6)/Recording (6)_segment_3.wav\n",
      "Saved temp/segments/Recording (6)/Recording (6)_segment_4.wav\n",
      "Saved temp/segments/Recording (6)/Recording (6)_segment_5.wav\n",
      "Saved temp/segments/Recording (6)/Recording (6)_segment_6.wav\n",
      "Saved temp/segments/Recording (6)/Recording (6)_segment_7.wav\n",
      "Saved temp/segments/Recording (6)/Recording (6)_segment_8.wav\n",
      "Created 8 segments.\n"
     ]
    }
   ],
   "source": [
    "input_file = \"/Users/kennethmaynard/Documents/projects/kp-project/temp/audio/Recording (6).m4a\"\n",
    "file_name = os.path.basename(input_file)\n",
    "file_name = os.path.splitext(file_name)[0]\n",
    "output_dir = f\"temp/segments/{file_name}\"\n",
    "\n",
    "if not os.path.exists(output_dir):\n",
    "    os.makedirs(output_dir)\n",
    "\n",
    "split_audio(input_file, output_dir)"
   ]
  },
  {
   "cell_type": "code",
   "execution_count": null,
   "metadata": {},
   "outputs": [
    {
     "name": "stdout",
     "output_type": "stream",
     "text": [
      "/Users/kennethmaynard/Documents/sandbox/huggiface/VTT/dataset/20250227/audio/DR LIAN Part 1 Pasien Ibu Erna.wav\n",
      "/Users/kennethmaynard/Documents/sandbox/huggiface/VTT/dataset/20250227/audio/DR LIAN Part 1 Pasien Ibu2 Batuk Raadang.wav\n",
      "/Users/kennethmaynard/Documents/sandbox/huggiface/VTT/dataset/20250227/audio/Rekan Suster.wav\n",
      "/Users/kennethmaynard/Documents/sandbox/huggiface/VTT/dataset/20250227/audio/DR LIAN Part 3 Pasien Rafif.wav\n",
      "/Users/kennethmaynard/Documents/sandbox/huggiface/VTT/dataset/20250227/audio/Pasien Pak Charlie.wav\n",
      "/Users/kennethmaynard/Documents/sandbox/huggiface/VTT/dataset/20250227/audio/DR LIAN Part 3 Closing.wav\n",
      "/Users/kennethmaynard/Documents/sandbox/huggiface/VTT/dataset/20250227/audio/DR LIAN Part 1 Pasien Pak Suhartono.wav\n",
      "/Users/kennethmaynard/Documents/sandbox/huggiface/VTT/dataset/20250227/audio/DR LIAN Part 3 Pasien Dedi.wav\n",
      "/Users/kennethmaynard/Documents/sandbox/huggiface/VTT/dataset/20250227/audio/DR LIAN Part 2 Pasian Catriati.wav\n",
      "/Users/kennethmaynard/Documents/sandbox/huggiface/VTT/dataset/20250227/audio/Rekan Dokter Wanita.wav\n",
      "/Users/kennethmaynard/Documents/sandbox/huggiface/VTT/dataset/20250227/audio/DR LIAN Part 2 Pasien Megabudi.wav\n",
      "/Users/kennethmaynard/Documents/sandbox/huggiface/VTT/dataset/20250227/audio/DR LIAN Part 1 Ibu Darsi.wav\n",
      "/Users/kennethmaynard/Documents/sandbox/huggiface/VTT/dataset/20250227/audio/DR LIAN Part 1 Pasien Pak Kuswara.wav\n",
      "/Users/kennethmaynard/Documents/sandbox/huggiface/VTT/dataset/20250227/audio/Pasien Ibu-ibu sakit nyeri.wav\n",
      "/Users/kennethmaynard/Documents/sandbox/huggiface/VTT/dataset/20250227/audio/DR LIAN Part 1 Pasien Al Afgani.wav\n",
      "/Users/kennethmaynard/Documents/sandbox/huggiface/VTT/dataset/20250227/audio/Pasien Pak Restu.wav\n",
      "/Users/kennethmaynard/Documents/sandbox/huggiface/VTT/dataset/20250227/audio/DR LIAN Part 2 Pasien Leni.wav\n",
      "/Users/kennethmaynard/Documents/sandbox/huggiface/VTT/dataset/20250227/audio/DR LIAN Part 3 Pasien Yunita.wav\n",
      "/Users/kennethmaynard/Documents/sandbox/huggiface/VTT/dataset/20250227/audio/DR LIAN Part 2 Pasien Zilal.wav\n",
      "/Users/kennethmaynard/Documents/sandbox/huggiface/VTT/dataset/20250227/audio/Pasien Bayi El Vano.wav\n",
      "/Users/kennethmaynard/Documents/sandbox/huggiface/VTT/dataset/20250227/audio/Pasien Pak Syardi.wav\n",
      "/Users/kennethmaynard/Documents/sandbox/huggiface/VTT/dataset/20250227/audio/DR LIAN Part 3 Pasien Patris.wav\n",
      "/Users/kennethmaynard/Documents/sandbox/huggiface/VTT/dataset/20250227/audio/DR LIAN Part 3 Pasien Komarudin.wav\n",
      "/Users/kennethmaynard/Documents/sandbox/huggiface/VTT/dataset/20250227/audio/DR LIAN Part 2 Pasien Gania.wav\n",
      "/Users/kennethmaynard/Documents/sandbox/huggiface/VTT/dataset/20250227/audio/Pasien Penyakit Gula.wav\n",
      "/Users/kennethmaynard/Documents/sandbox/huggiface/VTT/dataset/20250227/audio/DR LIAN Part 1 Pasien Fitriyani.wav\n"
     ]
    }
   ],
   "source": [
    "input_dir = \"/Users/kennethmaynard/Documents/sandbox/huggiface/VTT/dataset/20250227/audio\"\n",
    "output_main_dir = \"/Users/kennethmaynard/Documents/sandbox/huggiface/VTT/dataset/20250227/audio_segments\"\n",
    "\n",
    "audio_files = [f for f in os.listdir(input_dir) if f.endswith(\".mp3\") or f.endswith(\".wav\")]\n",
    "\n",
    "for audio_file in audio_files:\n",
    "    input_file = os.path.join(input_dir, audio_file)\n",
    "    print(input_file)\n",
    "\n",
    "    file_name = os.path.basename(input_file)\n",
    "    file_name = os.path.splitext(file_name)[0]\n",
    "    output_dir = os.path.join(output_main_dir, file_name)\n",
    "\n",
    "    if not os.path.exists(output_dir):\n",
    "        os.makedirs(output_dir)\n",
    "\n",
    "    split_audio(input_file, output_dir)\n",
    "    # split_audio(input_file, output_dir)\n",
    "\n",
    "# # split_aud(\"/Users/kennethmaynard/Documents/sandbox/huggiface/VTT/dataset/20250227/tes/DR LIAN Part 1 Ibu Darsi.wav\")\n",
    "# # split_audio(\"/Users/kennethmaynard/Documents/sandbox/huggiface/VTT/dataset/20250227/audio/DR LIAN Part 1 Ibu Darsi.wav\", \"/Users/kennethmaynard/Documents/sandbox/huggiface/VTT/dataset/20250227/audio_segments\")\n",
    "# input_dir = \"/Users/kennethmaynard/Documents/sandbox/huggiface/VTT/dataset/20250227/audio\"\n",
    "# output_dir = \"/Users/kennethmaynard/Documents/sandbox/huggiface/VTT/dataset/20250227/audio_segments\"\n",
    "\n",
    "# wav_files = [f for f in os.listdir(input_dir) if f.endswith(\".wav\")]\n",
    "\n",
    "# for wav_file in wav_files:\n",
    "#     input_file = os.path.join(input_dir, wav_file)\n",
    "#     split_audio(input_file, output_dir)"
   ]
  },
  {
   "cell_type": "code",
   "execution_count": null,
   "metadata": {},
   "outputs": [],
   "source": []
  }
 ],
 "metadata": {
  "kernelspec": {
   "display_name": ".venv",
   "language": "python",
   "name": "python3"
  },
  "language_info": {
   "codemirror_mode": {
    "name": "ipython",
    "version": 3
   },
   "file_extension": ".py",
   "mimetype": "text/x-python",
   "name": "python",
   "nbconvert_exporter": "python",
   "pygments_lexer": "ipython3",
   "version": "3.12.5"
  }
 },
 "nbformat": 4,
 "nbformat_minor": 2
}
